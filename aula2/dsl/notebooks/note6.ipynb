{
 "cells": [
  {
   "cell_type": "code",
   "execution_count": null,
   "id": "d354c6a9-ff5d-41bd-b86c-1e70249b6776",
   "metadata": {},
   "outputs": [],
   "source": [
    "with open('output/out2.txt', 'r') as f:\n",
    "    myout = f.read()\n",
    "    print(myout)\n",
    "    \n",
    "with open('output/out1.txt', 'r') as f:\n",
    "    myout = f.read()\n",
    "    print(myout)\n",
    "    \n",
    "with open('output/out3.txt', 'r') as f:\n",
    "    myout = f.read()\n",
    "    print(myout)"
   ]
  },
  {
   "cell_type": "code",
   "execution_count": null,
   "id": "644a21c0-37b8-49ba-86eb-ed5ca49e556b",
   "metadata": {},
   "outputs": [],
   "source": []
  }
 ],
 "metadata": {
  "kernelspec": {
   "display_name": "Python 3",
   "language": "python",
   "name": "python3"
  },
  "language_info": {
   "codemirror_mode": {
    "name": "ipython",
    "version": 3
   },
   "file_extension": ".py",
   "mimetype": "text/x-python",
   "name": "python",
   "nbconvert_exporter": "python",
   "pygments_lexer": "ipython3",
   "version": "3.8.8"
  }
 },
 "nbformat": 4,
 "nbformat_minor": 5
}
