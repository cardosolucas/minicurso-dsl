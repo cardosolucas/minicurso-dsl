{
 "cells": [
  {
   "cell_type": "code",
   "execution_count": null,
   "id": "d354c6a9-ff5d-41bd-b86c-1e70249b6776",
   "metadata": {},
   "outputs": [],
   "source": [
    "import os\n",
    "import time\n",
    "\n",
    "try:\n",
    "    os.mkdir('output')\n",
    "except OSError as error:\n",
    "    print(error)\n",
    "    \n",
    "with open('output/out2.txt', 'w') as f:\n",
    "    f.write('out2 -> check')\n",
    "    \n",
    "time.sleep(1)"
   ]
  },
  {
   "cell_type": "code",
   "execution_count": null,
   "id": "d9f38c14-acf5-4ca2-94cf-6875592aa674",
   "metadata": {},
   "outputs": [],
   "source": []
  }
 ],
 "metadata": {
  "kernelspec": {
   "display_name": "Python 3",
   "language": "python",
   "name": "python3"
  },
  "language_info": {
   "codemirror_mode": {
    "name": "ipython",
    "version": 3
   },
   "file_extension": ".py",
   "mimetype": "text/x-python",
   "name": "python",
   "nbconvert_exporter": "python",
   "pygments_lexer": "ipython3",
   "version": "3.8.8"
  }
 },
 "nbformat": 4,
 "nbformat_minor": 5
}
