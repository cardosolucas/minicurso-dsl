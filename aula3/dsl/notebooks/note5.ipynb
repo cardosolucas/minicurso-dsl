{
 "cells": [
  {
   "cell_type": "code",
   "execution_count": null,
   "id": "e63a1dcd-0b2b-4655-81b2-d11a19c41aa2",
   "metadata": {},
   "outputs": [],
   "source": [
    "import os\n",
    "import time\n",
    "\n",
    "try:\n",
    "    os.mkdir('output')\n",
    "except OSError as error:\n",
    "    print(error)\n",
    "    \n",
    "with open('output/out3.txt', 'w') as f:\n",
    "    f.write('out3 -> check')\n",
    "    \n",
    "time.sleep(1)"
   ]
  },
  {
   "cell_type": "code",
   "execution_count": null,
   "id": "62dbc99c-b894-4080-b26a-00256d696f7f",
   "metadata": {},
   "outputs": [],
   "source": []
  }
 ],
 "metadata": {
  "kernelspec": {
   "display_name": "Python 3",
   "language": "python",
   "name": "python3"
  },
  "language_info": {
   "codemirror_mode": {
    "name": "ipython",
    "version": 3
   },
   "file_extension": ".py",
   "mimetype": "text/x-python",
   "name": "python",
   "nbconvert_exporter": "python",
   "pygments_lexer": "ipython3",
   "version": "3.8.8"
  }
 },
 "nbformat": 4,
 "nbformat_minor": 5
}
